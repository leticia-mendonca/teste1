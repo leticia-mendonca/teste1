{
 "cells": [
  {
   "cell_type": "markdown",
   "metadata": {},
   "source": [
    "# Funções\n",
    "## O que são Funções?\n",
    "\n",
    "Uma função é um bloco de código que contém uma sequência de comandos que executa alguma tarefa. São utilizadas para executar determinadas tarefas que normalmente precisam ser executadas diversas vezes dentro de uma aplicação. Dessa forma, não é necessário repetir as mesmas linhas de código sempre que se quiser realizar determinada tarefa! "
   ]
  },
  {
   "cell_type": "markdown",
   "metadata": {},
   "source": [
    "## E como é a estrutura de uma função?\n",
    "\n",
    "A função pode apenas manipular os valores...\n",
    "\n",
    "```\n",
    "def NOME (PARAMETROS):\n",
    "  COMANDOS\n",
    "```\n",
    "\n",
    "ou retornar algum valor (usando a palavra reservada return)..\n",
    "\n",
    "```\n",
    "def NOME (PARAMETROS):\n",
    "  COMANDOS\n",
    "  return VALOR_DESEJADO\n",
    "```"
   ]
  },
  {
   "cell_type": "markdown",
   "metadata": {},
   "source": [
    "## Alguns exemplos\n",
    "#### Primeiro vamos ver uma função simples e como chama-la no nosso código"
   ]
  },
  {
   "cell_type": "code",
   "execution_count": null,
   "metadata": {},
   "outputs": [],
   "source": [
    "def apresenta (nome, idade):\n",
    "  print (\"Olá amigos, meu nome é\", nome, \"e eu tenho\", idade, \"anos\")"
   ]
  },
  {
   "cell_type": "code",
   "execution_count": null,
   "metadata": {},
   "outputs": [],
   "source": [
    "nome_usuario=input(\"Qual o seu nome?\")\n",
    "idade_usuario=input(\"E qual a sua idade?\")\n",
    "apresenta(nome_usuario, idade_usuario)"
   ]
  },
  {
   "cell_type": "code",
   "execution_count": null,
   "metadata": {},
   "outputs": [],
   "source": [
    "#Crie uma função que receba o nome e a idade do usuário e imprima\n",
    "#\"$$Nome$$ é maior de 18 anos\" ou\n",
    "#\"$$Nome$$ é menor de 18 anos\"\n",
    "#dependendo da idade dele\n",
    "\n"
   ]
  },
  {
   "cell_type": "code",
   "execution_count": null,
   "metadata": {},
   "outputs": [],
   "source": [
    "#Chame a função no seu programa\n",
    "\n"
   ]
  },
  {
   "cell_type": "markdown",
   "metadata": {},
   "source": [
    "#### Função com return\n",
    "Como a gente falou anteriormente, apesar de ser interessante manipular nossos dados com funções, muitas vezes precisamos que algum valor seja devolvido por ela. Para isso, usamos a palavra reservada return.\n",
    "Para ficar mais claro, observe o exemplo abaixo."
   ]
  },
  {
   "cell_type": "code",
   "execution_count": null,
   "metadata": {},
   "outputs": [],
   "source": [
    "def maior (a, b):\n",
    "  if(a>b):\n",
    "    return a\n",
    "  else:\n",
    "    return b"
   ]
  },
  {
   "cell_type": "markdown",
   "metadata": {},
   "source": [
    "O objetivo dela é retornar o maior valor entre dois números. Veja que o comando return aqui, será o respondável por me devolver o valor da função, quando ela for chamada no meu programa. Vamos ver como fica isso."
   ]
  },
  {
   "cell_type": "code",
   "execution_count": null,
   "metadata": {},
   "outputs": [],
   "source": [
    "print(\"digite dois números e eu vou te dizer o maior entre eles \\n\")\n",
    "x= input()\n",
    "y= input()\n",
    "aux = maior(x, y)\n",
    "print(\"O maior número é\", aux)"
   ]
  },
  {
   "cell_type": "code",
   "execution_count": null,
   "metadata": {},
   "outputs": [],
   "source": [
    "##Também posso chamar uma função dentro de outra função\n",
    "print(\"digite dois números e eu vou te dizer o maior entre eles \\n\")\n",
    "e= input()\n",
    "f= input()\n",
    "print(\"O maior número é\", maior(e, f))"
   ]
  },
  {
   "cell_type": "code",
   "execution_count": null,
   "metadata": {},
   "outputs": [],
   "source": [
    "#Crie uma função que execute a subtração de dois números e retorne o resultado"
   ]
  },
  {
   "cell_type": "code",
   "execution_count": null,
   "metadata": {},
   "outputs": [],
   "source": [
    "#Chame a função no seu programa, guarde o valor que ela retornou em uma variável\n",
    "#e imprima essa variável\n",
    "\n",
    "\n",
    "\n",
    "#Agora, chame a função dentro da funçã print e imprima o valor que a função retornou"
   ]
  },
  {
   "cell_type": "markdown",
   "metadata": {},
   "source": [
    "## Funções sem parâmetros\n",
    "Funções podem ter infinitos parâmetros ou não ter parâmetro nenhum! Podem ter até parâmetros opcionais(spoiler)."
   ]
  },
  {
   "cell_type": "code",
   "execution_count": null,
   "metadata": {},
   "outputs": [],
   "source": [
    "def spam():\n",
    "    for i in range(20): \n",
    "        print (\"amendoim é bom\")"
   ]
  },
  {
   "cell_type": "code",
   "execution_count": null,
   "metadata": {},
   "outputs": [],
   "source": [
    "spam()"
   ]
  },
  {
   "cell_type": "markdown",
   "metadata": {},
   "source": [
    "## Parâmetros opcionais e Parâmetros pré definidos\n",
    "\n",
    "#### Parâmetros opcionais\n",
    "Algumas vezes você quer usar diferentes parâmetros para diferentes propósitos, porém dentro da mesma função. As vezes você não quer usar todos os parâmetros. Existem n motivos pelos quais você pode querer fazer um parâmetro ser opcional.\n",
    "\n",
    "##### Mas como a gente faz isso?\n",
    "\n",
    "Quando estamos escrevendo a função, declaramos o parâmetro como ```**kwargs```. Por convenção, utiliza-se a palavra kwargs, mas pode-se utilizar qualquer uma, desde que coloque-se os ``**`` antes dela!\n",
    "Além disso, é necessário se atribuir o valor dos parâmetros opcionais à variáveis dentro da função. A estrutura fica assim então:\n",
    "\n",
    "```` \n",
    "def nome(parametro_obrigatorio, **kwargs):\n",
    "    opcional1=kwargs.get('opcional1')\n",
    "    opcional2=kwargs.get('opcional2')\n",
    "    ##resto da função... \n",
    "````\n",
    "\n",
    "##### Legal, mas como eu chamo uma função com argumentos opcionais??\n",
    "\n",
    "Posso chamar só com o parâmetro obrigatório, como uma função normal\n",
    "\n",
    "``nome(parametro_obrigatorio)``\n",
    "\n",
    "Posso chamar com um parâmetro opcional. Nesse caso, observe que tive que declarar que o parâmetro a mais que estava colocando na chamada da função, se refere ao parâmetro opcional1.\n",
    "\n",
    "``nome(parametro_obrigatorio, opcional1=\"amendoim\")``\n",
    "\n",
    "E, por fim, posso chamar com todos os parânetros! Sem esquecer é claro, de separa-los e identifica-los.\n",
    "\n",
    "``nome(parametro_obrigatorio, opcional1=\"amendoim\", opcional2=\"chuchu\")``\n",
    "\n",
    "#### Parâmetros pré-definidos\n",
    "Existem casos em que você está lidando com uma situação que acontece com muita frequência, mas não pode assumir que vai acontecer sempre. Uma solução para economizar tempo nessas situações, é pré-definir um valor para um parâmetro da sua função. Dessa forma, o usuário pode preencher o campo desse parâmetro, caso ele não seja seu caso padrão, ou ele pode não preencher nada caso se encaixe.\n",
    "\n",
    "##### Na declaração da função\n",
    "\n",
    "```` def nome(parametro_obrigatorio, parametro_padronizado = 3):\n",
    "    ##resto da função... \n",
    "````\n",
    "##### Na chamada da função\n",
    "Posso chamar a função sem colocar nada no lugar do parametro pré definido, e nesse caso a função irá utilizar o valor pré definido\n",
    "``nome(parametro_obrigatorio)``\n",
    "Mas também posso querer mudar o valor, nesse caso a função é chamada dessa forma:\n",
    "``nome(parametro_obrigatorio, 5)``"
   ]
  },
  {
   "cell_type": "markdown",
   "metadata": {},
   "source": [
    "### Um exemplo"
   ]
  },
  {
   "cell_type": "code",
   "execution_count": null,
   "metadata": {},
   "outputs": [],
   "source": [
    "def amizade(nome, mode=\"amigos\", **kwargs):\n",
    "  obs1=kwargs.get('obs1')\n",
    "  obs2=kwargs.get('obs2')\n",
    "  if mode == \"amigos\":\n",
    "    print(\"Oi,\", nome, \"somos bons amigos\")\n",
    "    if obs1 != None:\n",
    "      print(obs1)\n",
    "    if obs2!= None:\n",
    "      print(obs2)\n",
    "  elif mode == \"namorados\":\n",
    "    print (\"oi amor, te amo, quero ter\", nome, \"gravado na minha aliança\")\n",
    "    if obs1 != None:\n",
    "      print(obs1)\n",
    "    if obs2!= None:\n",
    "      print(obs2)\n",
    "  elif mode == \"inimigos\":\n",
    "    print (\"sai daqui,\",nome, \"ninguem gosta de você\")\n",
    "    if obs1 != None:\n",
    "      print(obs1)\n",
    "    if obs2!= None:\n",
    "      print(obs2)"
   ]
  },
  {
   "cell_type": "code",
   "execution_count": null,
   "metadata": {},
   "outputs": [],
   "source": [
    "#Caso em que coloco os dois parâmetros opcionais, aqui é utilizado o valor\n",
    "#pré definido para o parâmetro 'mode'\n",
    "\n",
    "amizade(\"vick\", obs1=\"você é cheirosa\", obs2=\"você é muito dedicada\")"
   ]
  },
  {
   "cell_type": "code",
   "execution_count": null,
   "metadata": {},
   "outputs": [],
   "source": [
    "#Caso sem nenhum parâmetro opcional, aqui o valor\n",
    "#pré definido para o parâmetro 'mode' é alterado\n",
    "amizade(\"chuchu\", \"namorados\")"
   ]
  },
  {
   "cell_type": "code",
   "execution_count": null,
   "metadata": {},
   "outputs": [],
   "source": [
    "#Caso em que coloco apenas um parâmetro opcional, aqui o valor\n",
    "#pré definido para o parâmetro 'mode'é alterado\n",
    "amizade(\"menino que não fez nada no meu trabalho de mecânica\", \"inimigos\", obs1=\"VOCÊ NEM RESPONDEU MINHAS MENSAGENS NO WPP\")"
   ]
  }
 ],
 "metadata": {
  "kernelspec": {
   "display_name": "Python 3",
   "language": "python",
   "name": "python3"
  },
  "language_info": {
   "codemirror_mode": {
    "name": "ipython",
    "version": 3
   },
   "file_extension": ".py",
   "mimetype": "text/x-python",
   "name": "python",
   "nbconvert_exporter": "python",
   "pygments_lexer": "ipython3",
   "version": "3.7.6"
  }
 },
 "nbformat": 4,
 "nbformat_minor": 4
}
